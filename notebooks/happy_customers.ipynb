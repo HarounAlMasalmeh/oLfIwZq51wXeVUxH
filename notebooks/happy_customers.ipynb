{
 "cells": [
  {
   "cell_type": "code",
   "execution_count": 83,
   "id": "666f8d4e-bcf7-4c21-bc25-8e30c5538c7e",
   "metadata": {},
   "outputs": [],
   "source": [
    "import numpy as np\n",
    "import pandas as pd\n",
    "import sklearn \n",
    "import matplotlib.pyplot as plt\n",
    "import random\n",
    "import seaborn as sns\n",
    "from sklearn.model_selection import train_test_split\n",
    "from sklearn.metrics import confusion_matrix, classification_report, f1_score, accuracy_score\n",
    "from sklearn.neighbors import KNeighborsClassifier\n",
    "from sklearn.svm import SVC\n",
    "from sklearn.pipeline import Pipeline\n",
    "from sklearn.preprocessing import StandardScaler\n",
    "from sklearn.linear_model import LogisticRegression\n",
    "from sklearn.naive_bayes import GaussianNB\n",
    "from sklearn.tree import DecisionTreeClassifier\n",
    "from sklearn.ensemble import RandomForestClassifier\n",
    "from sklearn.model_selection import GridSearchCV\n",
    "from sklearn.metrics import make_scorer\n",
    "from sklearn.model_selection import KFold\n",
    "from sklearn.impute import SimpleImputer"
   ]
  },
  {
   "cell_type": "code",
   "execution_count": 3,
   "id": "0ba20c23-40a6-408e-8036-6b9f03643b5c",
   "metadata": {},
   "outputs": [],
   "source": [
    "data_file_path = \"../data/raw/ACME-HappinessSurvey2020.csv\""
   ]
  },
  {
   "cell_type": "code",
   "execution_count": 4,
   "id": "316ecb8c-f76c-471b-8ba9-9a3998618c8a",
   "metadata": {},
   "outputs": [
    {
     "data": {
      "text/plain": "   Y  X1  X2  X3  X4  X5  X6\n0  0   3   3   3   4   2   4\n1  0   3   2   3   5   4   3\n2  1   5   3   3   3   3   5\n3  0   5   4   3   3   3   5\n4  0   5   4   3   3   3   5",
      "text/html": "<div>\n<style scoped>\n    .dataframe tbody tr th:only-of-type {\n        vertical-align: middle;\n    }\n\n    .dataframe tbody tr th {\n        vertical-align: top;\n    }\n\n    .dataframe thead th {\n        text-align: right;\n    }\n</style>\n<table border=\"1\" class=\"dataframe\">\n  <thead>\n    <tr style=\"text-align: right;\">\n      <th></th>\n      <th>Y</th>\n      <th>X1</th>\n      <th>X2</th>\n      <th>X3</th>\n      <th>X4</th>\n      <th>X5</th>\n      <th>X6</th>\n    </tr>\n  </thead>\n  <tbody>\n    <tr>\n      <th>0</th>\n      <td>0</td>\n      <td>3</td>\n      <td>3</td>\n      <td>3</td>\n      <td>4</td>\n      <td>2</td>\n      <td>4</td>\n    </tr>\n    <tr>\n      <th>1</th>\n      <td>0</td>\n      <td>3</td>\n      <td>2</td>\n      <td>3</td>\n      <td>5</td>\n      <td>4</td>\n      <td>3</td>\n    </tr>\n    <tr>\n      <th>2</th>\n      <td>1</td>\n      <td>5</td>\n      <td>3</td>\n      <td>3</td>\n      <td>3</td>\n      <td>3</td>\n      <td>5</td>\n    </tr>\n    <tr>\n      <th>3</th>\n      <td>0</td>\n      <td>5</td>\n      <td>4</td>\n      <td>3</td>\n      <td>3</td>\n      <td>3</td>\n      <td>5</td>\n    </tr>\n    <tr>\n      <th>4</th>\n      <td>0</td>\n      <td>5</td>\n      <td>4</td>\n      <td>3</td>\n      <td>3</td>\n      <td>3</td>\n      <td>5</td>\n    </tr>\n  </tbody>\n</table>\n</div>"
     },
     "execution_count": 4,
     "metadata": {},
     "output_type": "execute_result"
    }
   ],
   "source": [
    "data = pd.read_csv(data_file_path)\n",
    "data.head()"
   ]
  },
  {
   "cell_type": "code",
   "execution_count": 5,
   "id": "e3f65b41-f0c0-4be4-bb03-ccf38f72cbaa",
   "metadata": {},
   "outputs": [
    {
     "data": {
      "text/plain": "                Y          X1          X2          X3          X4          X5  \\\ncount  126.000000  126.000000  126.000000  126.000000  126.000000  126.000000   \nmean     0.547619    4.333333    2.531746    3.309524    3.746032    3.650794   \nstd      0.499714    0.800000    1.114892    1.023440    0.875776    1.147641   \nmin      0.000000    1.000000    1.000000    1.000000    1.000000    1.000000   \n25%      0.000000    4.000000    2.000000    3.000000    3.000000    3.000000   \n50%      1.000000    5.000000    3.000000    3.000000    4.000000    4.000000   \n75%      1.000000    5.000000    3.000000    4.000000    4.000000    4.000000   \nmax      1.000000    5.000000    5.000000    5.000000    5.000000    5.000000   \n\n               X6  \ncount  126.000000  \nmean     4.253968  \nstd      0.809311  \nmin      1.000000  \n25%      4.000000  \n50%      4.000000  \n75%      5.000000  \nmax      5.000000  ",
      "text/html": "<div>\n<style scoped>\n    .dataframe tbody tr th:only-of-type {\n        vertical-align: middle;\n    }\n\n    .dataframe tbody tr th {\n        vertical-align: top;\n    }\n\n    .dataframe thead th {\n        text-align: right;\n    }\n</style>\n<table border=\"1\" class=\"dataframe\">\n  <thead>\n    <tr style=\"text-align: right;\">\n      <th></th>\n      <th>Y</th>\n      <th>X1</th>\n      <th>X2</th>\n      <th>X3</th>\n      <th>X4</th>\n      <th>X5</th>\n      <th>X6</th>\n    </tr>\n  </thead>\n  <tbody>\n    <tr>\n      <th>count</th>\n      <td>126.000000</td>\n      <td>126.000000</td>\n      <td>126.000000</td>\n      <td>126.000000</td>\n      <td>126.000000</td>\n      <td>126.000000</td>\n      <td>126.000000</td>\n    </tr>\n    <tr>\n      <th>mean</th>\n      <td>0.547619</td>\n      <td>4.333333</td>\n      <td>2.531746</td>\n      <td>3.309524</td>\n      <td>3.746032</td>\n      <td>3.650794</td>\n      <td>4.253968</td>\n    </tr>\n    <tr>\n      <th>std</th>\n      <td>0.499714</td>\n      <td>0.800000</td>\n      <td>1.114892</td>\n      <td>1.023440</td>\n      <td>0.875776</td>\n      <td>1.147641</td>\n      <td>0.809311</td>\n    </tr>\n    <tr>\n      <th>min</th>\n      <td>0.000000</td>\n      <td>1.000000</td>\n      <td>1.000000</td>\n      <td>1.000000</td>\n      <td>1.000000</td>\n      <td>1.000000</td>\n      <td>1.000000</td>\n    </tr>\n    <tr>\n      <th>25%</th>\n      <td>0.000000</td>\n      <td>4.000000</td>\n      <td>2.000000</td>\n      <td>3.000000</td>\n      <td>3.000000</td>\n      <td>3.000000</td>\n      <td>4.000000</td>\n    </tr>\n    <tr>\n      <th>50%</th>\n      <td>1.000000</td>\n      <td>5.000000</td>\n      <td>3.000000</td>\n      <td>3.000000</td>\n      <td>4.000000</td>\n      <td>4.000000</td>\n      <td>4.000000</td>\n    </tr>\n    <tr>\n      <th>75%</th>\n      <td>1.000000</td>\n      <td>5.000000</td>\n      <td>3.000000</td>\n      <td>4.000000</td>\n      <td>4.000000</td>\n      <td>4.000000</td>\n      <td>5.000000</td>\n    </tr>\n    <tr>\n      <th>max</th>\n      <td>1.000000</td>\n      <td>5.000000</td>\n      <td>5.000000</td>\n      <td>5.000000</td>\n      <td>5.000000</td>\n      <td>5.000000</td>\n      <td>5.000000</td>\n    </tr>\n  </tbody>\n</table>\n</div>"
     },
     "execution_count": 5,
     "metadata": {},
     "output_type": "execute_result"
    }
   ],
   "source": [
    "data.describe()"
   ]
  },
  {
   "cell_type": "code",
   "execution_count": 6,
   "id": "e929a57a-d56c-40f3-bcc5-862d4dbf4b7c",
   "metadata": {},
   "outputs": [
    {
     "data": {
      "text/plain": "(126, 7)"
     },
     "execution_count": 6,
     "metadata": {},
     "output_type": "execute_result"
    }
   ],
   "source": [
    "data.shape"
   ]
  },
  {
   "cell_type": "code",
   "execution_count": 7,
   "id": "910c406d-cd7b-4041-a5fd-b2cdfc8fb132",
   "metadata": {},
   "outputs": [
    {
     "data": {
      "text/plain": "Y     0\nX1    0\nX2    0\nX3    0\nX4    0\nX5    0\nX6    0\ndtype: int64"
     },
     "execution_count": 7,
     "metadata": {},
     "output_type": "execute_result"
    }
   ],
   "source": [
    "data.isnull().sum()"
   ]
  },
  {
   "cell_type": "code",
   "execution_count": 8,
   "outputs": [
    {
     "data": {
      "text/plain": "16"
     },
     "execution_count": 8,
     "metadata": {},
     "output_type": "execute_result"
    }
   ],
   "source": [
    "data.duplicated().sum()"
   ],
   "metadata": {
    "collapsed": false
   }
  },
  {
   "cell_type": "code",
   "execution_count": 9,
   "outputs": [
    {
     "data": {
      "text/plain": "(110, 7)"
     },
     "execution_count": 9,
     "metadata": {},
     "output_type": "execute_result"
    }
   ],
   "source": [
    "data.drop_duplicates(keep='first',inplace=True)\n",
    "data.shape"
   ],
   "metadata": {
    "collapsed": false
   }
  },
  {
   "cell_type": "code",
   "execution_count": 10,
   "outputs": [
    {
     "name": "stdout",
     "output_type": "stream",
     "text": [
      "<class 'pandas.core.frame.DataFrame'>\n",
      "Int64Index: 110 entries, 0 to 125\n",
      "Data columns (total 7 columns):\n",
      " #   Column  Non-Null Count  Dtype\n",
      "---  ------  --------------  -----\n",
      " 0   Y       110 non-null    int64\n",
      " 1   X1      110 non-null    int64\n",
      " 2   X2      110 non-null    int64\n",
      " 3   X3      110 non-null    int64\n",
      " 4   X4      110 non-null    int64\n",
      " 5   X5      110 non-null    int64\n",
      " 6   X6      110 non-null    int64\n",
      "dtypes: int64(7)\n",
      "memory usage: 6.9 KB\n"
     ]
    }
   ],
   "source": [
    "data.info()"
   ],
   "metadata": {
    "collapsed": false
   }
  },
  {
   "cell_type": "code",
   "execution_count": 16,
   "outputs": [],
   "source": [
    "X = data.drop(['Y'], axis=1)\n",
    "y = data['Y']\n",
    "\n",
    "X_train_init, X_test_init, y_train, y_test = train_test_split(X, y, test_size=.3, random_state=36, stratify=y)\n",
    "\n",
    "numerical_transformer = Pipeline(steps=[\n",
    "    ('imputer', SimpleImputer(strategy='mean')),\n",
    "    ('scaler', StandardScaler())\n",
    "])\n",
    "\n",
    "X_train = numerical_transformer.fit_transform(X_train_init)\n",
    "X_test = numerical_transformer.transform(X_test_init)"
   ],
   "metadata": {
    "collapsed": false
   }
  },
  {
   "cell_type": "code",
   "execution_count": 53,
   "outputs": [],
   "source": [
    "classifiers = {\n",
    "        'LogisticRegression': {\n",
    "            'model': LogisticRegression(),\n",
    "            'params': {\n",
    "                'C': [0.1, 1, 10],\n",
    "                'penalty': ['l2']\n",
    "            }\n",
    "        },\n",
    "        'SVC': {\n",
    "            'model': SVC(),\n",
    "            'params': {\n",
    "                'C': [0.01, 0.1, 1, 10],\n",
    "                'kernel': ['linear', 'rbf', 'poly']\n",
    "            }\n",
    "        },\n",
    "        'KNeighborsClassifier': {\n",
    "            'model': KNeighborsClassifier(),\n",
    "            'params': {\n",
    "                'n_neighbors': [i for i in range(1, 10)],\n",
    "                'weights': ['uniform', 'distance'],\n",
    "                'p': [1, 2],\n",
    "                'algorithm': ['auto', 'ball_tree', 'kd_tree', 'brute'],\n",
    "                'leaf_size': [i for i in range(1, 5)]\n",
    "            }\n",
    "        },\n",
    "        'DecisionTreeClassifier': {\n",
    "            'model': DecisionTreeClassifier(),\n",
    "            'params': {\n",
    "                'max_depth': [None, 10, 20, 30],\n",
    "                'min_samples_split': [2, 5, 10],\n",
    "                'min_samples_leaf': [1, 2, 4]\n",
    "            }\n",
    "        },\n",
    "        'GaussianNB': {\n",
    "            'model': GaussianNB(),\n",
    "            'params': {}\n",
    "        },\n",
    "        'RandomForestClassifier': {\n",
    "            'model': RandomForestClassifier(),\n",
    "            'params': {\n",
    "                'n_estimators': [10, 50, 100],\n",
    "                'max_depth': [None, 10, 20, 30],\n",
    "                'min_samples_split': [2, 5, 10],\n",
    "                'min_samples_leaf': [1, 2, 4]\n",
    "            }\n",
    "        },\n",
    "    }"
   ],
   "metadata": {
    "collapsed": false
   }
  },
  {
   "cell_type": "code",
   "execution_count": 21,
   "outputs": [
    {
     "name": "stdout",
     "output_type": "stream",
     "text": [
      "KNeighborsClassifier: Train Score: 0.698, Test Score: 0.700, Best Score: 0.6063897488820089\n",
      "Best Params: {'algorithm': 'auto', 'leaf_size': 1, 'n_neighbors': 7, 'p': 1, 'weights': 'uniform'}\n",
      "DecisionTreeClassifier: Train Score: 0.868, Test Score: 0.471, Best Score: 0.5224908424908424\n",
      "Best Params: {'max_depth': None, 'min_samples_leaf': 1, 'min_samples_split': 5}\n",
      "GaussianNB: Train Score: 0.615, Test Score: 0.733, Best Score: 0.5197012138188609\n",
      "Best Params: {}\n",
      "RandomForestClassifier: Train Score: 0.806, Test Score: 0.452, Best Score: 0.5704024767801856\n",
      "Best Params: {'max_depth': 20, 'min_samples_leaf': 2, 'min_samples_split': 5, 'n_estimators': 10}\n",
      "LogisticRegression: Train Score: 0.593, Test Score: 0.621, Best Score: 0.509\n",
      "Best Params: {'C': 0.1, 'penalty': 'l2'}\n",
      "SVC: Train Score: 0.709, Test Score: 0.696, Best Score: 0.607\n",
      "Best Params: {'C': 0.1, 'kernel': 'poly'}\n",
      "KNeighborsClassifier: Train Score: 0.698, Test Score: 0.700, Best Score: 0.606\n",
      "Best Params: {'algorithm': 'auto', 'leaf_size': 1, 'n_neighbors': 7, 'p': 1, 'weights': 'uniform'}\n",
      "DecisionTreeClassifier: Train Score: 0.789, Test Score: 0.437, Best Score: 0.519\n",
      "Best Params: {'max_depth': 20, 'min_samples_leaf': 2, 'min_samples_split': 10}\n",
      "GaussianNB: Train Score: 0.615, Test Score: 0.733, Best Score: 0.520\n",
      "Best Params: {}\n",
      "RandomForestClassifier: Train Score: 0.811, Test Score: 0.667, Best Score: 0.556\n",
      "Best Params: {'max_depth': 30, 'min_samples_leaf': 1, 'min_samples_split': 10, 'n_estimators': 10}\n"
     ]
    }
   ],
   "source": [
    "for classifier_name, classifier in classifiers.items():\n",
    "    model = classifier['model']\n",
    "    params = classifier['params']\n",
    "    # kf = KFold(n_splits=len(X_train))\n",
    "    kf = KFold(n_splits=5)\n",
    "    scoring = make_scorer(f1_score, zero_division=1)\n",
    "    grid_search = GridSearchCV(model, params, cv=kf, n_jobs=-1, scoring=scoring, verbose=0, return_train_score=True)\n",
    "    grid_search.fit(X_train, y_train)\n",
    "\n",
    "    train_score = grid_search.score(X_train, y_train)\n",
    "    test_score = grid_search.score(X_test, y_test)\n",
    "    print(f\"{classifier_name}: Train Score: {train_score:.3f}, Test Score: {test_score:.3f}, Best Score: {grid_search.best_score_:.3f}\")\n",
    "    print(f\"Best Params: {grid_search.best_params_}\")"
   ],
   "metadata": {
    "collapsed": false
   }
  },
  {
   "cell_type": "code",
   "execution_count": 84,
   "outputs": [
    {
     "data": {
      "text/plain": "<Figure size 1000x1000 with 2 Axes>",
      "image/png": "[encoded data removed]"
     },
     "metadata": {},
     "output_type": "display_data"
    }
   ],
   "source": [
    "plt.figure(figsize=(10,10))\n",
    "corr=data.corr()\n",
    "ax=sns.heatmap(corr,annot=True,fmt='0.3f',linewidth=0.5,cmap='OrRd')\n",
    "ax.xaxis.tick_top()\n",
    "plt.show()"
   ],
   "metadata": {
    "collapsed": false
   }
  },
  {
   "cell_type": "code",
   "execution_count": 28,
   "outputs": [],
   "source": [
    "X = data.drop(['Y', 'X2', 'X4'], axis=1)\n",
    "y = data['Y']\n",
    "\n",
    "X_train_init, X_test_init, y_train, y_test = train_test_split(X, y, test_size=.3, random_state=36, stratify=y)\n",
    "\n",
    "numerical_transformer = Pipeline(steps=[\n",
    "    ('imputer', SimpleImputer(strategy='mean')),\n",
    "    ('scaler', StandardScaler())\n",
    "])\n",
    "\n",
    "X_train = numerical_transformer.fit_transform(X_train_init)\n",
    "X_test = numerical_transformer.transform(X_test_init)"
   ],
   "metadata": {
    "collapsed": false
   }
  },
  {
   "cell_type": "code",
   "execution_count": 54,
   "outputs": [
    {
     "name": "stdout",
     "output_type": "stream",
     "text": [
      "LogisticRegression: Train Score: 0.557, Test Score: 0.643\n",
      "   mean_test_score                       params\n",
      "0         0.529203  {'C': 0.1, 'penalty': 'l2'}\n",
      "1         0.512210    {'C': 1, 'penalty': 'l2'}\n",
      "2         0.512210   {'C': 10, 'penalty': 'l2'}\n",
      "------------------------------------------------------------\n",
      "SVC: Train Score: 0.709, Test Score: 0.651\n",
      "    mean_test_score                           params\n",
      "5          0.667194     {'C': 0.1, 'kernel': 'poly'}\n",
      "8          0.647536       {'C': 1, 'kernel': 'poly'}\n",
      "7          0.622265        {'C': 1, 'kernel': 'rbf'}\n",
      "10         0.607613       {'C': 10, 'kernel': 'rbf'}\n",
      "3          0.520612   {'C': 0.1, 'kernel': 'linear'}\n",
      "9          0.508758    {'C': 10, 'kernel': 'linear'}\n",
      "6          0.499608     {'C': 1, 'kernel': 'linear'}\n",
      "11         0.470341      {'C': 10, 'kernel': 'poly'}\n",
      "2          0.376285    {'C': 0.01, 'kernel': 'poly'}\n",
      "0          0.370751  {'C': 0.01, 'kernel': 'linear'}\n",
      "------------------------------------------------------------\n",
      "KNeighborsClassifier: Train Score: 0.747, Test Score: 0.667\n",
      "     mean_test_score                                             params\n",
      "160         0.690349  {'algorithm': 'ball_tree', 'leaf_size': 1, 'n_...\n",
      "124         0.686540  {'algorithm': 'auto', 'leaf_size': 4, 'n_neigh...\n",
      "412         0.686540  {'algorithm': 'kd_tree', 'leaf_size': 4, 'n_ne...\n",
      "206         0.685826  {'algorithm': 'ball_tree', 'leaf_size': 2, 'n_...\n",
      "242         0.685826  {'algorithm': 'ball_tree', 'leaf_size': 3, 'n_...\n",
      "484         0.680826  {'algorithm': 'brute', 'leaf_size': 2, 'n_neig...\n",
      "448         0.680826  {'algorithm': 'brute', 'leaf_size': 1, 'n_neig...\n",
      "556         0.680826  {'algorithm': 'brute', 'leaf_size': 4, 'n_neig...\n",
      "520         0.680826  {'algorithm': 'brute', 'leaf_size': 3, 'n_neig...\n",
      "278         0.677492  {'algorithm': 'ball_tree', 'leaf_size': 4, 'n_...\n",
      "------------------------------------------------------------\n",
      "DecisionTreeClassifier: Train Score: 0.756, Test Score: 0.667\n",
      "    mean_test_score                                             params\n",
      "29         0.534581  {'max_depth': 30, 'min_samples_leaf': 1, 'min_...\n",
      "10         0.531891  {'max_depth': 10, 'min_samples_leaf': 1, 'min_...\n",
      "14         0.523601  {'max_depth': 10, 'min_samples_leaf': 2, 'min_...\n",
      "23         0.523601  {'max_depth': 20, 'min_samples_leaf': 2, 'min_...\n",
      "2          0.515043  {'max_depth': None, 'min_samples_leaf': 1, 'mi...\n",
      "35         0.510043  {'max_depth': 30, 'min_samples_leaf': 4, 'min_...\n",
      "26         0.510043  {'max_depth': 20, 'min_samples_leaf': 4, 'min_...\n",
      "8          0.510043  {'max_depth': None, 'min_samples_leaf': 4, 'mi...\n",
      "17         0.510043  {'max_depth': 10, 'min_samples_leaf': 4, 'min_...\n",
      "34         0.507843  {'max_depth': 30, 'min_samples_leaf': 4, 'min_...\n",
      "------------------------------------------------------------\n",
      "GaussianNB: Train Score: 0.607, Test Score: 0.643\n",
      "   mean_test_score params\n",
      "0         0.519216     {}\n",
      "------------------------------------------------------------\n",
      "RandomForestClassifier: Train Score: 0.780, Test Score: 0.611\n",
      "    mean_test_score                                             params\n",
      "41         0.674028  {'max_depth': 10, 'min_samples_leaf': 2, 'min_...\n",
      "63         0.659042  {'max_depth': 20, 'min_samples_leaf': 2, 'min_...\n",
      "38         0.656060  {'max_depth': 10, 'min_samples_leaf': 2, 'min_...\n",
      "91         0.650490  {'max_depth': 30, 'min_samples_leaf': 2, 'min_...\n",
      "64         0.640980  {'max_depth': 20, 'min_samples_leaf': 2, 'min_...\n",
      "20         0.640365  {'max_depth': None, 'min_samples_leaf': 4, 'mi...\n",
      "4          0.634524  {'max_depth': None, 'min_samples_leaf': 1, 'mi...\n",
      "68         0.633963  {'max_depth': 20, 'min_samples_leaf': 2, 'min_...\n",
      "37         0.633333  {'max_depth': 10, 'min_samples_leaf': 2, 'min_...\n",
      "46         0.631381  {'max_depth': 10, 'min_samples_leaf': 4, 'min_...\n",
      "------------------------------------------------------------\n"
     ]
    }
   ],
   "source": [
    "for classifier_name, classifier in classifiers.items():\n",
    "    model = classifier['model']\n",
    "    params = classifier['params']\n",
    "    # kf = KFold(n_splits=len(X_train))\n",
    "    kf = KFold(n_splits=5)\n",
    "    scoring = make_scorer(f1_score, zero_division=1)\n",
    "    grid_search = GridSearchCV(model, params, cv=kf, n_jobs=-1, scoring=scoring, verbose=0, return_train_score=True)\n",
    "    # grid_search = GridSearchCV(model, params, cv=kf, n_jobs=-1, scoring=scoring, verbose=0, return_train_score=False)\n",
    "    grid_search.fit(X_train, y_train)\n",
    "\n",
    "    train_score = grid_search.score(X_train, y_train)\n",
    "    test_score = grid_search.score(X_test, y_test)\n",
    "\n",
    "    results_df = pd.DataFrame(grid_search.cv_results_)\n",
    "    top_scores = results_df.sort_values(by='mean_test_score', ascending=False).iloc[:10]\n",
    "\n",
    "    print(f\"{classifier_name}: Train Score: {train_score:.3f}, Test Score: {test_score:.3f}\")\n",
    "    print(f\"{top_scores[['mean_test_score', 'params']]}\")\n",
    "\n",
    "    # print(f\"\\tBest Params: {grid_search.best_params_}\")\n",
    "    print(f\"-\" * 60)"
   ],
   "metadata": {
    "collapsed": false
   }
  },
  {
   "cell_type": "markdown",
   "source": [
    "KNighborsClassifier looks like our best bet, let's dive deeper with it"
   ],
   "metadata": {
    "collapsed": false
   }
  },
  {
   "cell_type": "code",
   "execution_count": 85,
   "outputs": [
    {
     "name": "stdout",
     "output_type": "stream",
     "text": [
      "0.733\t0.732\t{'algorithm': 'auto', 'n_neighbors': 7, 'weights': 'uniform', 'leaf_size': 2}\n"
     ]
    }
   ],
   "source": [
    "n_neighbors = range(1,10)\n",
    "weights = ['uniform', 'distance']\n",
    "algorithms = ['auto', 'ball_tree', 'kd_tree', 'brute']\n",
    "leafSizes = range(1,5)\n",
    "\n",
    "best_train_score = 0\n",
    "best_score = 0\n",
    "best_params = None\n",
    "\n",
    "for neighbors in n_neighbors:\n",
    "    for weight in weights:\n",
    "        for algorithm in algorithms:\n",
    "            for leafSize in leafSizes:\n",
    "                knc = KNeighborsClassifier(n_neighbors=neighbors, weights=weight, algorithm=algorithm, leaf_size=leafSize, p=1)\n",
    "                knc.fit(X_train, y_train)\n",
    "                y_train_pred = knc.predict(X_train)\n",
    "                y_pred = knc.predict(X_test)\n",
    "\n",
    "                train_score = f1_score(y_train, y_train_pred)\n",
    "                f1 = f1_score(y_test, y_pred)\n",
    "\n",
    "                if (f1 > best_score) and (train_score >= f1):\n",
    "                    best_score = f1\n",
    "                    best_train_score = train_score\n",
    "                    # best_params = knc.get_params()\n",
    "                    best_params = {'algorithm': algorithm, 'n_neighbors': neighbors, 'weights': weight, 'leaf_size': leafSize}\n",
    "                    # print(f\"{train_score:.3f}\\t{f1:.3f}\\t{{'algorithm': {algorithm}, 'n_neighbors': {neighbors}, 'weights': {weight}, 'leaf_size': {leafSize}}}\")\n",
    "\n",
    "print(f\"{best_train_score:.3f}\\t{best_score:.3f}\\t{best_params}\")"
   ],
   "metadata": {
    "collapsed": false
   }
  },
  {
   "cell_type": "code",
   "execution_count": 86,
   "outputs": [
    {
     "name": "stdout",
     "output_type": "stream",
     "text": [
      "0.732\n"
     ]
    }
   ],
   "source": [
    "KNN = KNeighborsClassifier(n_neighbors=7, weights='uniform', algorithm='auto', leaf_size=2, p=1)\n",
    "KNN.fit(X_train, y_train)\n",
    "y_pred = KNN.predict(X_test)\n",
    "score = f1_score(y_test, y_pred)\n",
    "print(f\"{score:.3f}\")"
   ],
   "metadata": {
    "collapsed": false
   }
  },
  {
   "cell_type": "code",
   "execution_count": 87,
   "outputs": [
    {
     "data": {
      "text/plain": "[Text(0, 0.5, 'Unhappy'), Text(0, 1.5, 'Happy')]"
     },
     "execution_count": 87,
     "metadata": {},
     "output_type": "execute_result"
    },
    {
     "data": {
      "text/plain": "<Figure size 640x480 with 2 Axes>",
      "image/png": "[encoded data removed]"
     },
     "metadata": {},
     "output_type": "display_data"
    }
   ],
   "source": [
    "ax=plt.subplot()\n",
    "cm=confusion_matrix(y_test,y_pred)\n",
    "sns.heatmap(cm,annot=True)\n",
    "\n",
    "# set labels, title and ticks\n",
    "ax.set_xlabel('Predicted labels')\n",
    "ax.set_ylabel('True labels')\n",
    "ax.set_title('Confusion Matrix');\n",
    "ax.xaxis.set_ticklabels(['Unhappy','Happy'])\n",
    "ax.yaxis.set_ticklabels(['Unhappy', 'Happy'])"
   ],
   "metadata": {
    "collapsed": false
   }
  },
  {
   "cell_type": "code",
   "execution_count": null,
   "outputs": [],
   "source": [],
   "metadata": {
    "collapsed": false
   }
  }
 ],
 "metadata": {
  "kernelspec": {
   "display_name": "Python 3 (ipykernel)",
   "language": "python",
   "name": "python3"
  },
  "language_info": {
   "codemirror_mode": {
    "name": "ipython",
    "version": 3
   },
   "file_extension": ".py",
   "mimetype": "text/x-python",
   "name": "python",
   "nbconvert_exporter": "python",
   "pygments_lexer": "ipython3",
   "version": "3.9.13"
  }
 },
 "nbformat": 4,
 "nbformat_minor": 5
}
